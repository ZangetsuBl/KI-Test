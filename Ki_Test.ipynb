{
  "nbformat": 4,
  "nbformat_minor": 0,
  "metadata": {
    "colab": {
      "name": "Ki-Test.ipynb",
      "provenance": [],
      "collapsed_sections": []
    },
    "kernelspec": {
      "name": "python3",
      "display_name": "Python 3"
    },
    "language_info": {
      "name": "python"
    }
  },
  "cells": [
    {
      "cell_type": "code",
      "metadata": {
        "id": "tMsm4bCHPamY"
      },
      "source": [
        "import tensorflow as tf\n",
        "from tensorflow import keras\n",
        "\n",
        "model = keras.Sequential([keras.layers.Dense(units=1, input_shape=[1])])\n",
        "model.compile(optimizer='sgd', loss='mean_squared_error')\n",
        "\n",
        "xs=[1, 2, 3, 4, 5]\n",
        "ys=[2, 4, 6, 8, 10]\n",
        "\n",
        "model.fit(xs, ys, epochs=175)\n",
        "\n",
        "print(model.predict([8]))"
      ],
      "execution_count": null,
      "outputs": []
    }
  ]
}